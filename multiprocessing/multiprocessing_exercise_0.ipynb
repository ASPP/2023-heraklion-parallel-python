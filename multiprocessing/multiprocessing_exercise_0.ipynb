{
 "cells": [
  {
   "cell_type": "markdown",
   "id": "7e589ef3",
   "metadata": {},
   "source": [
    "# Exercise 0\n",
    "### Step 0\n",
    "Compute and print the cubes of numbers `0..9` with a `for` loop."
   ]
  },
  {
   "cell_type": "code",
   "execution_count": null,
   "id": "656b87a0",
   "metadata": {},
   "outputs": [],
   "source": [
    "inputs = range(10)\n",
    "... # TODO compute cubes\n",
    "print(results)"
   ]
  },
  {
   "cell_type": "markdown",
   "id": "d1d1e41c",
   "metadata": {},
   "source": [
    "### Step 1\n",
    "Compute and print the cubes of numbers `0..9` using `map`."
   ]
  },
  {
   "cell_type": "code",
   "execution_count": null,
   "id": "b3e934a0",
   "metadata": {},
   "outputs": [],
   "source": [
    "inputs = range(10)\n",
    "... # TODO compute cubes\n",
    "print(results)"
   ]
  }
 ],
 "metadata": {
  "kernelspec": {
   "display_name": "Python 3 (ipykernel)",
   "language": "python",
   "name": "python3"
  },
  "language_info": {
   "codemirror_mode": {
    "name": "ipython",
    "version": 3
   },
   "file_extension": ".py",
   "mimetype": "text/x-python",
   "name": "python",
   "nbconvert_exporter": "python",
   "pygments_lexer": "ipython3",
   "version": "3.10.4"
  }
 },
 "nbformat": 4,
 "nbformat_minor": 5
}
