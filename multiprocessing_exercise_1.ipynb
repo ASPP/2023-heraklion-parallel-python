{
 "cells": [
  {
   "cell_type": "markdown",
   "id": "170d1d49",
   "metadata": {},
   "source": [
    "# Exercise 1\n",
    "\n",
    "Remember the numerical integration from the \"High performance Python\" lecture? Here's the (slow) core function again. We will use it to explore simple parallelization using the `multiprocessing` module."
   ]
  },
  {
   "cell_type": "code",
   "execution_count": 19,
   "id": "c6b53bbb",
   "metadata": {},
   "outputs": [],
   "source": [
    "def integrate(f, a, b, n):\n",
    "    s = []\n",
    "    for i in range(n):\n",
    "        dx = (b - a) / n\n",
    "        x = a + (i + 0.5) * dx\n",
    "        y = f(x)\n",
    "        s = s + [y * dx]\n",
    "    return sum(s)\n",
    "\n",
    "def f(x):\n",
    "    return x ** 4 - 3 * x\n",
    "\n",
    "def F(x):\n",
    "    return 1 / 5 * x ** 5 - 3 / 2 * x ** 2\n",
    "\n",
    "def compute_error(n):\n",
    "    a = 0\n",
    "    b = 1\n",
    "    F_analytical = F(b) - F(a)\n",
    "    F_numerical = integrate(f, a, b, n)\n",
    "    return abs(F_analytical - F_numerical)"
   ]
  },
  {
   "cell_type": "markdown",
   "id": "824f3efc",
   "metadata": {},
   "source": [
    "### Step 0\n",
    "Familiarize yourself with the code above and below. What does it do? Execute it and measure it's duration with the `%%time` magic."
   ]
  },
  {
   "cell_type": "code",
   "execution_count": 30,
   "id": "8f545181",
   "metadata": {},
   "outputs": [
    {
     "name": "stdout",
     "output_type": "stream",
     "text": [
      "[1.666661031407557e-09, 2.6666113761564247e-10, 6.666600604887662e-11, 2.96227486984435e-11]\n",
      "CPU times: user 16.1 s, sys: 30.9 ms, total: 16.1 s\n",
      "Wall time: 16.1 s\n"
     ]
    }
   ],
   "source": [
    "%%time\n",
    "ns = [10000, 25000, 50000, 75000]\n",
    "errors = []\n",
    "for n in ns:\n",
    "    errors.append(compute_error(n))\n",
    "print(errors)"
   ]
  },
  {
   "cell_type": "markdown",
   "id": "0965ca80",
   "metadata": {},
   "source": [
    "### Step 1\n",
    "Rewrite the code using `map`. Time it."
   ]
  },
  {
   "cell_type": "code",
   "execution_count": 31,
   "id": "63851d08",
   "metadata": {},
   "outputs": [
    {
     "name": "stdout",
     "output_type": "stream",
     "text": [
      "[1.666661031407557e-09, 2.6666113761564247e-10, 6.666600604887662e-11, 2.96227486984435e-11]\n",
      "CPU times: user 16.1 s, sys: 1.51 ms, total: 16.1 s\n",
      "Wall time: 16.1 s\n"
     ]
    }
   ],
   "source": [
    "%%time\n",
    "errors = list(map(compute_error, ns))\n",
    "print(errors)"
   ]
  },
  {
   "cell_type": "markdown",
   "id": "ce8ac329",
   "metadata": {},
   "source": [
    "### Step 2\n",
    "\n",
    "Now use the `ProcessPool` to parallelize your code. Time it and compare execution times.\n",
    "\n",
    "Do you observe a speedup? If so, does it match your expectations? Discuss with your partner."
   ]
  },
  {
   "cell_type": "code",
   "execution_count": 32,
   "id": "5a94fd97",
   "metadata": {},
   "outputs": [],
   "source": [
    "from multiprocessing.pool import Pool as ProcessPool"
   ]
  },
  {
   "cell_type": "code",
   "execution_count": 33,
   "id": "479aee0f",
   "metadata": {},
   "outputs": [
    {
     "name": "stdout",
     "output_type": "stream",
     "text": [
      "[1.666661031407557e-09, 2.6666113761564247e-10, 6.666600604887662e-11, 2.96227486984435e-11]\n",
      "CPU times: user 3.78 ms, sys: 20.5 ms, total: 24.3 ms\n",
      "Wall time: 10.3 s\n"
     ]
    }
   ],
   "source": [
    "%%time\n",
    "with ProcessPool(processes=4) as pool:\n",
    "    errors = pool.map(compute_error, ns)\n",
    "print(errors)"
   ]
  }
 ],
 "metadata": {
  "kernelspec": {
   "display_name": "Python 3 (ipykernel)",
   "language": "python",
   "name": "python3"
  },
  "language_info": {
   "codemirror_mode": {
    "name": "ipython",
    "version": 3
   },
   "file_extension": ".py",
   "mimetype": "text/x-python",
   "name": "python",
   "nbconvert_exporter": "python",
   "pygments_lexer": "ipython3",
   "version": "3.10.4"
  }
 },
 "nbformat": 4,
 "nbformat_minor": 5
}
